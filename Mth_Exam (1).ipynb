{
  "nbformat": 4,
  "nbformat_minor": 0,
  "metadata": {
    "colab": {
      "provenance": []
    },
    "kernelspec": {
      "name": "python3",
      "display_name": "Python 3"
    },
    "language_info": {
      "name": "python"
    }
  },
  "cells": [
    {
      "cell_type": "markdown",
      "source": [
        "Amad, Francis Jalen\n",
        "\n",
        "3rd Quarter Exam : Solving Systems of Equations Using Matrix Inverse\n",
        "\n",
        "Part 1: Theory"
      ],
      "metadata": {
        "id": "fmx4-QkVkD2i"
      }
    },
    {
      "cell_type": "code",
      "source": [
        "import numpy as np\n",
        "\n",
        "# Step 1: Define the matrix A (5x5) and vector B (5x1)\n",
        "A = np.array([[3, 2, -1, 0, 0],\n",
        "              [2, -1, 3, 0, 0],\n",
        "              [1, 2, 4, 3, 0],\n",
        "              [0, 1, -2, 2, 1],\n",
        "              [0, 0, 3, 1, 4]])\n",
        "\n",
        "B = np.array([1, 2, 3, 4, 5])\n",
        "\n",
        "# Step 2: Calculate the inverse of matrix A\n",
        "A_inv = np.linalg.inv(A)\n",
        "\n",
        "# Step 3: Calculate the solution vector X\n",
        "X = np.dot(A_inv, B)\n",
        "\n",
        "# Step 4: Display the solution\n",
        "print(\"The solution vector X is:\")\n",
        "print(X)"
      ],
      "metadata": {
        "colab": {
          "base_uri": "https://localhost:8080/"
        },
        "id": "tukxC9mnkKwk",
        "outputId": "c30df664-4d72-47d7-e4d1-1e1c895d39a5"
      },
      "execution_count": 2,
      "outputs": [
        {
          "output_type": "stream",
          "name": "stdout",
          "text": [
            "The solution vector X is:\n",
            "[ 0.9057971  -0.99275362 -0.26811594  1.7173913   1.02173913]\n"
          ]
        }
      ]
    },
    {
      "cell_type": "markdown",
      "source": [
        "Part 2: Application to Real-World Computer Science Problem"
      ],
      "metadata": {
        "id": "KQo9hVTRkPVl"
      }
    },
    {
      "cell_type": "markdown",
      "source": [
        "Part 3: Step-by-Stel Instructions"
      ],
      "metadata": {
        "id": "4bQzqvrmkTnE"
      }
    },
    {
      "cell_type": "code",
      "source": [
        "# Step 1: Define the coefficient matrix A (5x5 matrix)\n",
        "A = np.array([\n",
        "    [3, 2, 1, 1, 0],\n",
        "    [1, 4, 2, 0, 1],\n",
        "    [2, 3, 4, 1, 0],\n",
        "    [1, 1, 3, 5, 0],\n",
        "    [0, 1, 2, 4, 3]\n",
        "])\n",
        "\n",
        "# Step 2: Define the constant matrix B (5x1 matrix)\n",
        "B = np.array([100, 150, 120, 110, 140])\n",
        "\n",
        "# Step 3: Check if matrix A is invertible (determinant should not be zero)\n",
        "det_A = np.linalg.det(A)\n",
        "print(f\"Determinant of A: {det_A}\")\n",
        "\n",
        "if det_A == 0:\n",
        "    print(\"Matrix A is singular and cannot be inverted!\")\n",
        "else:\n",
        "    # Step 4: Find the inverse of matrix A\n",
        "    A_inv = np.linalg.inv(A)\n",
        "\n",
        "    # Step 5: Solve for X using the matrix inverse method\n",
        "    X = np.dot(A_inv, B)\n",
        "\n",
        "    # Step 6: Display the solution (unknowns)\n",
        "    print(\"Solution (Unknowns):\")\n",
        "    print(X)"
      ],
      "metadata": {
        "colab": {
          "base_uri": "https://localhost:8080/"
        },
        "id": "ouO0PLRnkUBU",
        "outputId": "4e60f455-a559-49d9-ca5c-438124ca3a33"
      },
      "execution_count": 4,
      "outputs": [
        {
          "output_type": "stream",
          "name": "stdout",
          "text": [
            "Determinant of A: 277.0000000000002\n",
            "Solution (Unknowns):\n",
            "[ 7.36462094 32.23826715 -1.62454874 15.05415162 16.93140794]\n"
          ]
        }
      ]
    },
    {
      "cell_type": "markdown",
      "source": [
        "Part 4: Practice Problems\n",
        "\n",
        "Problem 1"
      ],
      "metadata": {
        "id": "TaRzWuaAkXfg"
      }
    },
    {
      "cell_type": "code",
      "source": [
        "import numpy as np\n",
        "\n",
        "# Define the coefficient matrix A\n",
        "A = np.array([\n",
        "    [2, 1, -1],\n",
        "    [-1, 3, 2],\n",
        "    [1, -2, 4]\n",
        "])\n",
        "\n",
        "# Define the constants vector b\n",
        "b = np.array([5, 6, 7])\n",
        "\n",
        "# Check if matrix is invertible\n",
        "det = np.linalg.det(A)\n",
        "print(f\"Determinant of matrix A: {det:.2f}\")\n",
        "\n",
        "if det != 0:\n",
        "    # Calculate inverse of A\n",
        "    A_inv = np.linalg.inv(A)\n",
        "\n",
        "    # Solve for x using x = A^(-1)b\n",
        "    x = np.dot(A_inv, b)\n",
        "\n",
        "    print(\"\\nSolution:\")\n",
        "    print(f\"x₁ = {x[0]:.2f}\")\n",
        "    print(f\"x₂ = {x[1]:.2f}\")\n",
        "    print(f\"x₃ = {x[2]:.2f}\")\n",
        "\n",
        "    # Verify the solution\n",
        "    print(\"\\nVerification:\")\n",
        "    verification = np.dot(A, x)\n",
        "    print(\"Ax =\", verification)\n",
        "    print(\"b  =\", b)\n",
        "    print(\"\\nIs solution correct?\", np.allclose(verification, b))\n",
        "else:\n",
        "    print(\"Matrix is not invertible!\")"
      ],
      "metadata": {
        "colab": {
          "base_uri": "https://localhost:8080/"
        },
        "id": "SweEEwuzkX4l",
        "outputId": "0cf5dab8-e86c-4b9e-df6d-10fda7a24c26"
      },
      "execution_count": 14,
      "outputs": [
        {
          "output_type": "stream",
          "name": "stdout",
          "text": [
            "Determinant of matrix A: 39.00\n",
            "\n",
            "Solution:\n",
            "x₁ = 2.64\n",
            "x₂ = 1.62\n",
            "x₃ = 1.90\n",
            "\n",
            "Verification:\n",
            "Ax = [5. 6. 7.]\n",
            "b  = [5 6 7]\n",
            "\n",
            "Is solution correct? True\n"
          ]
        }
      ]
    },
    {
      "cell_type": "markdown",
      "source": [
        "Problem 2"
      ],
      "metadata": {
        "id": "Wpp9gY4ukaF4"
      }
    },
    {
      "cell_type": "code",
      "source": [
        "import numpy as np\n",
        "\n",
        "# Define the coefficient matrix A\n",
        "A = np.array([\n",
        "    [5, 3, 1, 1, 0],\n",
        "    [4, 6, 2, 0, 1],\n",
        "    [2, 7, 3, 1, 0],\n",
        "    [1, 2, 4, 5, 0],\n",
        "    [3, 4, 5, 0, 6]\n",
        "])\n",
        "\n",
        "# Define the constants vector b\n",
        "b = np.array([200, 300, 150, 120, 250])\n",
        "\n",
        "# Check if matrix is invertible\n",
        "det = np.linalg.det(A)\n",
        "print(f\"Determinant of matrix A: {det:.2f}\")\n",
        "\n",
        "if det != 0:\n",
        "    # Calculate inverse of A\n",
        "    A_inv = np.linalg.inv(A)\n",
        "\n",
        "    # Solve for x using x = A^(-1)b\n",
        "    x = np.dot(A_inv, b)\n",
        "\n",
        "    print(\"\\nSolution (Data flow through each connection):\")\n",
        "    for i, flow in enumerate(x, 1):\n",
        "        print(f\"Connection {i}: {flow:.2f} units\")\n",
        "\n",
        "    # Verify the solution\n",
        "    print(\"\\nVerification:\")\n",
        "    verification = np.dot(A, x)\n",
        "    print(\"Ax =\", verification)\n",
        "    print(\"b  =\", b)\n",
        "    print(\"\\nIs solution correct?\", np.allclose(verification, b))\n",
        "else:\n",
        "    print(\"Matrix is not invertible. The system may have no unique solution.\")\n",
        "\n",
        "# Additional analysis\n",
        "print(\"\\nNetwork Analysis:\")\n",
        "total_flow = np.sum(x)\n",
        "print(f\"Total data flow in the network: {total_flow:.2f} units\")\n",
        "max_flow = np.max(x)\n",
        "max_flow_connection = np.argmax(x) + 1\n",
        "print(f\"Connection with highest data flow: Connection {max_flow_connection} ({max_flow:.2f} units)\")\n",
        "min_flow = np.min(x)\n",
        "min_flow_connection = np.argmin(x) + 1\n",
        "print(f\"Connection with lowest data flow: Connection {min_flow_connection} ({min_flow:.2f} units)\")\n"
      ],
      "metadata": {
        "colab": {
          "base_uri": "https://localhost:8080/"
        },
        "id": "U8ZTG6WOkbSr",
        "outputId": "67ca53f7-dd1e-43b6-ba65-a82e0b0a8a12"
      },
      "execution_count": 13,
      "outputs": [
        {
          "output_type": "stream",
          "name": "stdout",
          "text": [
            "Determinant of matrix A: 225.00\n",
            "\n",
            "Solution (Data flow through each connection):\n",
            "Connection 1: -23.87 units\n",
            "Connection 2: 137.60 units\n",
            "Connection 3: -336.00 units\n",
            "Connection 4: 242.53 units\n",
            "Connection 5: 241.87 units\n",
            "\n",
            "Verification:\n",
            "Ax = [200. 300. 150. 120. 250.]\n",
            "b  = [200 300 150 120 250]\n",
            "\n",
            "Is solution correct? True\n",
            "\n",
            "Network Analysis:\n",
            "Total data flow in the network: 262.13 units\n",
            "Connection with highest data flow: Connection 4 (242.53 units)\n",
            "Connection with lowest data flow: Connection 3 (-336.00 units)\n"
          ]
        }
      ]
    },
    {
      "cell_type": "markdown",
      "source": [
        "Problem 3"
      ],
      "metadata": {
        "id": "WxlEL5cdkgs2"
      }
    },
    {
      "cell_type": "code",
      "source": [
        "import numpy as np\n",
        "\n",
        "# Define the coefficient matrix A\n",
        "# Each row represents a cryptographic transformation equation\n",
        "A = np.array([\n",
        "    [2, 1, -1, 3, 0, 2, 1],\n",
        "    [1, 3, 2, -1, 4, 0, 2],\n",
        "    [3, -2, 4, 1, 0, 1, -1],\n",
        "    [1, 0, -1, 2, 3, 1, 4],\n",
        "    [2, 3, 1, -1, 2, 0, 3],\n",
        "    [0, 1, 3, 2, -1, 4, 2],\n",
        "    [4, -1, 2, 0, 1, 3, -2]\n",
        "])\n",
        "\n",
        "# Define the constants vector b\n",
        "# These represent the results of each transformation\n",
        "b = np.array([10, 8, 15, 20, 12, 18, 9])\n",
        "\n",
        "# Check if matrix is invertible\n",
        "det = np.linalg.det(A)\n",
        "print(f\"Determinant of transformation matrix: {det:.2f}\")\n",
        "\n",
        "if det != 0:\n",
        "    # Calculate inverse of A\n",
        "    A_inv = np.linalg.inv(A)\n",
        "\n",
        "    # Solve for x using x = A^(-1)b\n",
        "    x = np.dot(A_inv, b)\n",
        "\n",
        "    print(\"\\nSolution (Cryptographic transformation variables):\")\n",
        "    for i, var in enumerate(x, 1):\n",
        "        print(f\"Variable {i}: {var:.4f}\")\n",
        "\n",
        "    # Verify the solution\n",
        "    print(\"\\nVerification:\")\n",
        "    verification = np.dot(A, x)\n",
        "    print(\"Ax =\", verification)\n",
        "    print(\"b  =\", b)\n",
        "    print(\"\\nIs solution correct?\", np.allclose(verification, b))\n",
        "\n",
        "    # Cryptographic interpretation\n",
        "    print(\"\\nCryptographic Interpretation:\")\n",
        "    print(\"These values represent the weights or coefficients of different\")\n",
        "    print(\"cryptographic operations in the algorithm. For example:\")\n",
        "    print(f\"- Operation 1 has a weight of {x[0]:.4f}\")\n",
        "    print(f\"- Operation 2 has a weight of {x[1]:.4f}\")\n",
        "    print(\"... and so on.\")\n",
        "    print(\"\\nThese weights determine how each operation contributes to the\")\n",
        "    print(\"overall transformation of the input in the cryptographic algorithm.\")\n",
        "else:\n",
        "    print(\"Transformation matrix is not invertible. The cryptographic system may be flawed or underdetermined.\")\n",
        "\n",
        "# Security analysis\n",
        "print(\"\\nSecurity Analysis:\")\n",
        "max_weight = np.max(np.abs(x))\n",
        "max_weight_op = np.argmax(np.abs(x)) + 1\n",
        "print(f\"Operation with highest impact: Operation {max_weight_op} (weight: {max_weight:.4f})\")\n",
        "min_weight = np.min(np.abs(x))\n",
        "min_weight_op = np.argmin(np.abs(x)) + 1\n",
        "print(f\"Operation with lowest impact: Operation {min_weight_op} (weight: {min_weight:.4f})\")\n",
        "print(\"\\nNote: Operations with higher weights have more influence on the\")\n",
        "print(\"cryptographic transformation and may be more critical for security.\")\n"
      ],
      "metadata": {
        "colab": {
          "base_uri": "https://localhost:8080/"
        },
        "id": "nvUm2R4_khFL",
        "outputId": "826de494-911c-43d3-9415-dba78c5f8fe7"
      },
      "execution_count": 12,
      "outputs": [
        {
          "output_type": "stream",
          "name": "stdout",
          "text": [
            "Determinant of transformation matrix: -14246.00\n",
            "\n",
            "Solution (Cryptographic transformation variables):\n",
            "Variable 1: 2.0733\n",
            "Variable 2: -1.7380\n",
            "Variable 3: 1.7915\n",
            "Variable 4: 1.0636\n",
            "Variable 5: 0.1481\n",
            "Variable 6: 1.0889\n",
            "Variable 7: 4.0145\n",
            "\n",
            "Verification:\n",
            "Ax = [10.  8. 15. 20. 12. 18.  9.]\n",
            "b  = [10  8 15 20 12 18  9]\n",
            "\n",
            "Is solution correct? True\n",
            "\n",
            "Cryptographic Interpretation:\n",
            "These values represent the weights or coefficients of different\n",
            "cryptographic operations in the algorithm. For example:\n",
            "- Operation 1 has a weight of 2.0733\n",
            "- Operation 2 has a weight of -1.7380\n",
            "... and so on.\n",
            "\n",
            "These weights determine how each operation contributes to the\n",
            "overall transformation of the input in the cryptographic algorithm.\n",
            "\n",
            "Security Analysis:\n",
            "Operation with highest impact: Operation 7 (weight: 4.0145)\n",
            "Operation with lowest impact: Operation 5 (weight: 0.1481)\n",
            "\n",
            "Note: Operations with higher weights have more influence on the\n",
            "cryptographic transformation and may be more critical for security.\n"
          ]
        }
      ]
    },
    {
      "cell_type": "markdown",
      "source": [
        "Problem 4"
      ],
      "metadata": {
        "id": "sbYJlT1Ykkc-"
      }
    },
    {
      "cell_type": "code",
      "source": [
        "# Step 1: Define the coefficient matrix A (5x5 matrix) with the actual values\n",
        "A = np.array([\n",
        "    [2, 3, 1, 4, 5],\n",
        "    [1, 2, 3, 4, 2],\n",
        "    [3, 4, 5, 6, 7],\n",
        "    [4, 5, 6, 7, 8],\n",
        "    [2, 4, 1, 3, 5]\n",
        "])\n",
        "\n",
        "# Step 2: Define the constant matrix B (5x1 matrix) with the actual values\n",
        "B = np.array([100, 200, 300, 400, 500])\n",
        "\n",
        "# Step 3: Check if matrix A is invertible (determinant should not be zero)\n",
        "det_A = np.linalg.det(A)\n",
        "print(f\"Determinant of A: {det_A}\")\n",
        "\n",
        "if det_A == 0:\n",
        "    print(\"Matrix A is singular and cannot be inverted!\")\n",
        "else:\n",
        "    # Step 4: Find the inverse of matrix A\n",
        "    A_inv = np.linalg.inv(A)\n",
        "\n",
        "    # Step 5: Solve for X using the matrix inverse method\n",
        "    X = np.dot(A_inv, B)\n",
        "\n",
        "    # Step 6: Display the solution (unknowns)\n",
        "    print(\"Solution (Unknowns):\")\n",
        "    print(X)"
      ],
      "metadata": {
        "colab": {
          "base_uri": "https://localhost:8080/"
        },
        "id": "sPQagl5Dkk1a",
        "outputId": "590d77d1-c969-41b5-de9c-8ae312265f73"
      },
      "execution_count": 8,
      "outputs": [
        {
          "output_type": "stream",
          "name": "stdout",
          "text": [
            "Determinant of A: -30.000000000000004\n",
            "Solution (Unknowns):\n",
            "[-133.33333333  293.33333333   80.         -106.66666667  -33.33333333]\n"
          ]
        }
      ]
    },
    {
      "cell_type": "markdown",
      "source": [
        "Problem 5"
      ],
      "metadata": {
        "id": "vtFaR0XLkpAx"
      }
    },
    {
      "cell_type": "code",
      "source": [
        "import numpy as np\n",
        "\n",
        "def solve_network_routing(A, B):\n",
        "    \"\"\"\n",
        "    Solves the network routing problem using matrix inversion.\n",
        "\n",
        "    Args:\n",
        "    A (np.array): Coefficient matrix\n",
        "    B (np.array): Constants vector\n",
        "\n",
        "    Returns:\n",
        "    np.array: Solution vector\n",
        "    \"\"\"\n",
        "    # Check if matrix A is invertible\n",
        "    det_A = np.linalg.det(A)\n",
        "\n",
        "    if det_A == 0:\n",
        "        raise ValueError(\"Matrix A is singular and cannot be inverted!\")\n",
        "\n",
        "    # Find the inverse of matrix A\n",
        "    A_inv = np.linalg.inv(A)\n",
        "\n",
        "    # Solve for X using the matrix inverse method\n",
        "    X = np.dot(A_inv, B)\n",
        "\n",
        "    return X\n",
        "\n",
        "def print_results(X):\n",
        "    \"\"\"\n",
        "    Prints the results of the network routing problem.\n",
        "\n",
        "    Args:\n",
        "    X (np.array): Solution vector\n",
        "    \"\"\"\n",
        "    print(\"Solution (Data flow through each server):\")\n",
        "    for i, flow in enumerate(X, 1):\n",
        "        print(f\"Server {i}: {flow:.2f} units\")\n",
        "\n",
        "def verify_solution(A, X, B):\n",
        "    \"\"\"\n",
        "    Verifies the solution by comparing AX with B.\n",
        "\n",
        "    Args:\n",
        "    A (np.array): Coefficient matrix\n",
        "    X (np.array): Solution vector\n",
        "    B (np.array): Constants vector\n",
        "\n",
        "    Returns:\n",
        "    bool: True if the solution is correct, False otherwise\n",
        "    \"\"\"\n",
        "    verification = np.dot(A, X)\n",
        "    print(\"\\nVerification:\")\n",
        "    print(\"Left-hand side (AX):\", verification)\n",
        "    print(\"Right-hand side (B):\", B)\n",
        "    return np.allclose(verification, B)\n",
        "\n",
        "# Main execution\n",
        "if __name__ == \"__main__\":\n",
        "    # Define the coefficient matrix A\n",
        "    A = np.array([\n",
        "        [5, 3, 1, 1, 0],\n",
        "        [4, 6, 2, 0, 1],\n",
        "        [2, 7, 3, 1, 0],\n",
        "        [1, 2, 4, 5, 0],\n",
        "        [3, 4, 5, 0, 6]\n",
        "    ])\n",
        "\n",
        "    # Define the constants vector B\n",
        "    B = np.array([200, 300, 150, 120, 250])\n",
        "\n",
        "    try:\n",
        "        # Solve the system\n",
        "        X = solve_network_routing(A, B)\n",
        "\n",
        "        # Print results\n",
        "        print_results(X)\n",
        "\n",
        "        # Verify solution\n",
        "        is_correct = verify_solution(A, X, B)\n",
        "        print(f\"\\nIs the solution correct? {is_correct}\")\n",
        "\n",
        "        # Additional analysis\n",
        "        print(\"\\nNetwork Analysis:\")\n",
        "        total_flow = np.sum(X)\n",
        "        print(f\"Total data flow in the network: {total_flow:.2f} units\")\n",
        "        max_flow = np.max(X)\n",
        "        max_flow_server = np.argmax(X) + 1\n",
        "        print(f\"Server with highest data flow: Server {max_flow_server} ({max_flow:.2f} units)\")\n",
        "        min_flow = np.min(X)\n",
        "        min_flow_server = np.argmin(X) + 1\n",
        "        print(f\"Server with lowest data flow: Server {min_flow_server} ({min_flow:.2f} units)\")\n",
        "\n",
        "    except ValueError as e:\n",
        "        print(f\"Error: {e}\")"
      ],
      "metadata": {
        "colab": {
          "base_uri": "https://localhost:8080/"
        },
        "id": "LWKcmDwVknCk",
        "outputId": "ee5849c4-d0e9-4c4a-c959-abb3edb48f86"
      },
      "execution_count": 15,
      "outputs": [
        {
          "output_type": "stream",
          "name": "stdout",
          "text": [
            "Solution (Data flow through each server):\n",
            "Server 1: -23.87 units\n",
            "Server 2: 137.60 units\n",
            "Server 3: -336.00 units\n",
            "Server 4: 242.53 units\n",
            "Server 5: 241.87 units\n",
            "\n",
            "Verification:\n",
            "Left-hand side (AX): [200. 300. 150. 120. 250.]\n",
            "Right-hand side (B): [200 300 150 120 250]\n",
            "\n",
            "Is the solution correct? True\n",
            "\n",
            "Network Analysis:\n",
            "Total data flow in the network: 262.13 units\n",
            "Server with highest data flow: Server 4 (242.53 units)\n",
            "Server with lowest data flow: Server 3 (-336.00 units)\n"
          ]
        }
      ]
    },
    {
      "cell_type": "code",
      "source": [],
      "metadata": {
        "id": "1STCAvsXkqq_"
      },
      "execution_count": null,
      "outputs": []
    }
  ]
}